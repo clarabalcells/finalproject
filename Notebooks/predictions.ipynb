{
 "cells": [
  {
   "cell_type": "markdown",
   "id": "eeb10d15",
   "metadata": {},
   "source": [
    "First we start by importing all the required libraries"
   ]
  },
  {
   "cell_type": "code",
   "execution_count": 1,
   "id": "eb8c8067",
   "metadata": {},
   "outputs": [],
   "source": [
    "import pandas as pd\n",
    "import numpy as np\n",
    "import yaml\n",
    "import pickle\n",
    "import seaborn as sns\n",
    "import matplotlib.pyplot as plt\n",
    "from sklearn.metrics import mean_absolute_error\n",
    "from sklearn.linear_model import Ridge, Lasso\n",
    "from sklearn.tree import DecisionTreeRegressor\n",
    "from sklearn.ensemble import GradientBoostingRegressor\n",
    "from sklearn.ensemble import RandomForestRegressor\n",
    "from sklearn.ensemble import RandomForestClassifier\n",
    "from sklearn.metrics import confusion_matrix, ConfusionMatrixDisplay\n",
    "from sklearn.neighbors import KNeighborsRegressor\n",
    "from sklearn.ensemble import ExtraTreesRegressor\n",
    "from sklearn.ensemble import BaggingRegressor\n",
    "from sklearn.compose import ColumnTransformer\n",
    "from sklearn.ensemble import RandomForestRegressor\n",
    "from sklearn.model_selection import train_test_split\n",
    "from sklearn.preprocessing import StandardScaler, PowerTransformer, MinMaxScaler\n",
    "from sklearn.preprocessing import OneHotEncoder\n",
    "from sklearn.linear_model import LogisticRegression\n",
    "from sklearn.linear_model import LinearRegression\n",
    "from sklearn.metrics import r2_score\n",
    "from sklearn.pipeline import Pipeline\n",
    "from sklearn.metrics import mean_absolute_error , mean_absolute_percentage_error , mean_squared_error\n",
    "import statsmodels.api as sm\n",
    "from sklearn.neighbors import KNeighborsClassifier\n",
    "from sklearn.ensemble import RandomForestClassifier\n",
    "from sklearn.neural_network import MLPClassifier\n",
    "from sklearn.model_selection import GridSearchCV, cross_val_score\n",
    "from sklearn.metrics import classification_report\n",
    "from sklearn.metrics import precision_recall_curve\n",
    "from sklearn.metrics import confusion_matrix, ConfusionMatrixDisplay\n",
    "from sys import path\n",
    "from sklearn.preprocessing import StandardScaler\n",
    "from sklearn.pipeline import Pipeline\n",
    "from sklearn.metrics import roc_auc_score,balanced_accuracy_score\n",
    "from sklearn.model_selection import GridSearchCV, train_test_split\n",
    "from sklearn.preprocessing import PowerTransformer\n",
    "from sklearn.preprocessing import LabelEncoder\n",
    "le=LabelEncoder()\n",
    "import matplotlib.pyplot as plt\n",
    "    "
   ]
  },
  {
   "cell_type": "markdown",
   "id": "4991a8e6",
   "metadata": {},
   "source": [
    "We read the dataset and start building the prediction models"
   ]
  },
  {
   "cell_type": "code",
   "execution_count": 2,
   "id": "d95c9d4d",
   "metadata": {},
   "outputs": [],
   "source": [
    "df1 = pd.read_csv(\"/Users/clara/Documents/Ironhack/Finalproject/Data/clean/Clean_Dataset.csv\")"
   ]
  },
  {
   "cell_type": "code",
   "execution_count": 3,
   "id": "37aa588c",
   "metadata": {},
   "outputs": [],
   "source": [
    "df1.drop(\"Unnamed: 0\", axis = 1, inplace = True)\n"
   ]
  },
  {
   "cell_type": "code",
   "execution_count": 4,
   "id": "7671a216",
   "metadata": {},
   "outputs": [
    {
     "data": {
      "text/html": [
       "<div>\n",
       "<style scoped>\n",
       "    .dataframe tbody tr th:only-of-type {\n",
       "        vertical-align: middle;\n",
       "    }\n",
       "\n",
       "    .dataframe tbody tr th {\n",
       "        vertical-align: top;\n",
       "    }\n",
       "\n",
       "    .dataframe thead th {\n",
       "        text-align: right;\n",
       "    }\n",
       "</style>\n",
       "<table border=\"1\" class=\"dataframe\">\n",
       "  <thead>\n",
       "    <tr style=\"text-align: right;\">\n",
       "      <th></th>\n",
       "      <th>airline</th>\n",
       "      <th>flight</th>\n",
       "      <th>source_city</th>\n",
       "      <th>departure_time</th>\n",
       "      <th>stops</th>\n",
       "      <th>arrival_time</th>\n",
       "      <th>destination_city</th>\n",
       "      <th>class</th>\n",
       "      <th>duration</th>\n",
       "      <th>days_left</th>\n",
       "      <th>price</th>\n",
       "    </tr>\n",
       "  </thead>\n",
       "  <tbody>\n",
       "    <tr>\n",
       "      <th>0</th>\n",
       "      <td>SpiceJet</td>\n",
       "      <td>SG-8709</td>\n",
       "      <td>Delhi</td>\n",
       "      <td>Evening</td>\n",
       "      <td>zero</td>\n",
       "      <td>Night</td>\n",
       "      <td>Mumbai</td>\n",
       "      <td>Economy</td>\n",
       "      <td>2.17</td>\n",
       "      <td>1</td>\n",
       "      <td>5953</td>\n",
       "    </tr>\n",
       "    <tr>\n",
       "      <th>1</th>\n",
       "      <td>SpiceJet</td>\n",
       "      <td>SG-8157</td>\n",
       "      <td>Delhi</td>\n",
       "      <td>Early_Morning</td>\n",
       "      <td>zero</td>\n",
       "      <td>Morning</td>\n",
       "      <td>Mumbai</td>\n",
       "      <td>Economy</td>\n",
       "      <td>2.33</td>\n",
       "      <td>1</td>\n",
       "      <td>5953</td>\n",
       "    </tr>\n",
       "    <tr>\n",
       "      <th>2</th>\n",
       "      <td>AirAsia</td>\n",
       "      <td>I5-764</td>\n",
       "      <td>Delhi</td>\n",
       "      <td>Early_Morning</td>\n",
       "      <td>zero</td>\n",
       "      <td>Early_Morning</td>\n",
       "      <td>Mumbai</td>\n",
       "      <td>Economy</td>\n",
       "      <td>2.17</td>\n",
       "      <td>1</td>\n",
       "      <td>5956</td>\n",
       "    </tr>\n",
       "    <tr>\n",
       "      <th>3</th>\n",
       "      <td>Vistara</td>\n",
       "      <td>UK-995</td>\n",
       "      <td>Delhi</td>\n",
       "      <td>Morning</td>\n",
       "      <td>zero</td>\n",
       "      <td>Afternoon</td>\n",
       "      <td>Mumbai</td>\n",
       "      <td>Economy</td>\n",
       "      <td>2.25</td>\n",
       "      <td>1</td>\n",
       "      <td>5955</td>\n",
       "    </tr>\n",
       "    <tr>\n",
       "      <th>4</th>\n",
       "      <td>Vistara</td>\n",
       "      <td>UK-963</td>\n",
       "      <td>Delhi</td>\n",
       "      <td>Morning</td>\n",
       "      <td>zero</td>\n",
       "      <td>Morning</td>\n",
       "      <td>Mumbai</td>\n",
       "      <td>Economy</td>\n",
       "      <td>2.33</td>\n",
       "      <td>1</td>\n",
       "      <td>5955</td>\n",
       "    </tr>\n",
       "  </tbody>\n",
       "</table>\n",
       "</div>"
      ],
      "text/plain": [
       "    airline   flight source_city departure_time stops   arrival_time  \\\n",
       "0  SpiceJet  SG-8709       Delhi        Evening  zero          Night   \n",
       "1  SpiceJet  SG-8157       Delhi  Early_Morning  zero        Morning   \n",
       "2   AirAsia   I5-764       Delhi  Early_Morning  zero  Early_Morning   \n",
       "3   Vistara   UK-995       Delhi        Morning  zero      Afternoon   \n",
       "4   Vistara   UK-963       Delhi        Morning  zero        Morning   \n",
       "\n",
       "  destination_city    class  duration  days_left  price  \n",
       "0           Mumbai  Economy      2.17          1   5953  \n",
       "1           Mumbai  Economy      2.33          1   5953  \n",
       "2           Mumbai  Economy      2.17          1   5956  \n",
       "3           Mumbai  Economy      2.25          1   5955  \n",
       "4           Mumbai  Economy      2.33          1   5955  "
      ]
     },
     "execution_count": 4,
     "metadata": {},
     "output_type": "execute_result"
    }
   ],
   "source": [
    "df1.head()\n"
   ]
  },
  {
   "cell_type": "code",
   "execution_count": 5,
   "id": "b60a8e24",
   "metadata": {},
   "outputs": [
    {
     "data": {
      "text/plain": [
       "Index(['airline', 'flight', 'source_city', 'departure_time', 'stops',\n",
       "       'arrival_time', 'destination_city', 'class', 'duration', 'days_left',\n",
       "       'price'],\n",
       "      dtype='object')"
      ]
     },
     "execution_count": 5,
     "metadata": {},
     "output_type": "execute_result"
    }
   ],
   "source": [
    "df1.columns"
   ]
  },
  {
   "cell_type": "code",
   "execution_count": 6,
   "id": "9d6c15b4",
   "metadata": {},
   "outputs": [
    {
     "data": {
      "text/plain": [
       "airline              object\n",
       "flight               object\n",
       "source_city          object\n",
       "departure_time       object\n",
       "stops                object\n",
       "arrival_time         object\n",
       "destination_city     object\n",
       "class                object\n",
       "duration            float64\n",
       "days_left             int64\n",
       "price                 int64\n",
       "dtype: object"
      ]
     },
     "execution_count": 6,
     "metadata": {},
     "output_type": "execute_result"
    }
   ],
   "source": [
    "df1.dtypes"
   ]
  },
  {
   "cell_type": "markdown",
   "id": "63ed7cc7",
   "metadata": {},
   "source": [
    "We check for duplicates and null values"
   ]
  },
  {
   "cell_type": "code",
   "execution_count": 7,
   "id": "9a0872dd",
   "metadata": {},
   "outputs": [
    {
     "data": {
      "text/plain": [
       "0"
      ]
     },
     "execution_count": 7,
     "metadata": {},
     "output_type": "execute_result"
    }
   ],
   "source": [
    "df1.duplicated().sum()\n"
   ]
  },
  {
   "cell_type": "code",
   "execution_count": 8,
   "id": "ac4e5a37",
   "metadata": {},
   "outputs": [
    {
     "data": {
      "text/plain": [
       "0"
      ]
     },
     "execution_count": 8,
     "metadata": {},
     "output_type": "execute_result"
    }
   ],
   "source": [
    "df1.isnull().sum().sum()"
   ]
  },
  {
   "cell_type": "markdown",
   "id": "479c7108",
   "metadata": {},
   "source": [
    "* We see that there are not duplicates nor missing values"
   ]
  },
  {
   "cell_type": "code",
   "execution_count": 9,
   "id": "75d98ff4",
   "metadata": {},
   "outputs": [
    {
     "data": {
      "text/html": [
       "<div>\n",
       "<style scoped>\n",
       "    .dataframe tbody tr th:only-of-type {\n",
       "        vertical-align: middle;\n",
       "    }\n",
       "\n",
       "    .dataframe tbody tr th {\n",
       "        vertical-align: top;\n",
       "    }\n",
       "\n",
       "    .dataframe thead th {\n",
       "        text-align: right;\n",
       "    }\n",
       "</style>\n",
       "<table border=\"1\" class=\"dataframe\">\n",
       "  <thead>\n",
       "    <tr style=\"text-align: right;\">\n",
       "      <th></th>\n",
       "      <th>duration</th>\n",
       "      <th>days_left</th>\n",
       "      <th>price</th>\n",
       "    </tr>\n",
       "  </thead>\n",
       "  <tbody>\n",
       "    <tr>\n",
       "      <th>count</th>\n",
       "      <td>300153.000000</td>\n",
       "      <td>300153.000000</td>\n",
       "      <td>300153.000000</td>\n",
       "    </tr>\n",
       "    <tr>\n",
       "      <th>mean</th>\n",
       "      <td>12.221021</td>\n",
       "      <td>26.004751</td>\n",
       "      <td>20889.660523</td>\n",
       "    </tr>\n",
       "    <tr>\n",
       "      <th>std</th>\n",
       "      <td>7.191997</td>\n",
       "      <td>13.561004</td>\n",
       "      <td>22697.767366</td>\n",
       "    </tr>\n",
       "    <tr>\n",
       "      <th>min</th>\n",
       "      <td>0.830000</td>\n",
       "      <td>1.000000</td>\n",
       "      <td>1105.000000</td>\n",
       "    </tr>\n",
       "    <tr>\n",
       "      <th>25%</th>\n",
       "      <td>6.830000</td>\n",
       "      <td>15.000000</td>\n",
       "      <td>4783.000000</td>\n",
       "    </tr>\n",
       "    <tr>\n",
       "      <th>50%</th>\n",
       "      <td>11.250000</td>\n",
       "      <td>26.000000</td>\n",
       "      <td>7425.000000</td>\n",
       "    </tr>\n",
       "    <tr>\n",
       "      <th>75%</th>\n",
       "      <td>16.170000</td>\n",
       "      <td>38.000000</td>\n",
       "      <td>42521.000000</td>\n",
       "    </tr>\n",
       "    <tr>\n",
       "      <th>max</th>\n",
       "      <td>49.830000</td>\n",
       "      <td>49.000000</td>\n",
       "      <td>123071.000000</td>\n",
       "    </tr>\n",
       "  </tbody>\n",
       "</table>\n",
       "</div>"
      ],
      "text/plain": [
       "            duration      days_left          price\n",
       "count  300153.000000  300153.000000  300153.000000\n",
       "mean       12.221021      26.004751   20889.660523\n",
       "std         7.191997      13.561004   22697.767366\n",
       "min         0.830000       1.000000    1105.000000\n",
       "25%         6.830000      15.000000    4783.000000\n",
       "50%        11.250000      26.000000    7425.000000\n",
       "75%        16.170000      38.000000   42521.000000\n",
       "max        49.830000      49.000000  123071.000000"
      ]
     },
     "execution_count": 9,
     "metadata": {},
     "output_type": "execute_result"
    }
   ],
   "source": [
    "df1.describe()"
   ]
  },
  {
   "cell_type": "markdown",
   "id": "1aef2492",
   "metadata": {},
   "source": [
    "Then we check for any possible outliers in the dataset\n",
    "\n",
    "* We observe that we can't find any outliers in the dataset"
   ]
  },
  {
   "cell_type": "code",
   "execution_count": 10,
   "id": "6aab6261",
   "metadata": {},
   "outputs": [
    {
     "name": "stderr",
     "output_type": "stream",
     "text": [
      "/var/folders/p0/lbhs9gv11lj5k_hv1w555fs40000gn/T/ipykernel_30420/473017434.py:1: FutureWarning: The default value of numeric_only in DataFrame.corr is deprecated. In a future version, it will default to False. Select only valid columns or specify the value of numeric_only to silence this warning.\n",
      "  df1.corr()\n"
     ]
    },
    {
     "data": {
      "text/html": [
       "<div>\n",
       "<style scoped>\n",
       "    .dataframe tbody tr th:only-of-type {\n",
       "        vertical-align: middle;\n",
       "    }\n",
       "\n",
       "    .dataframe tbody tr th {\n",
       "        vertical-align: top;\n",
       "    }\n",
       "\n",
       "    .dataframe thead th {\n",
       "        text-align: right;\n",
       "    }\n",
       "</style>\n",
       "<table border=\"1\" class=\"dataframe\">\n",
       "  <thead>\n",
       "    <tr style=\"text-align: right;\">\n",
       "      <th></th>\n",
       "      <th>duration</th>\n",
       "      <th>days_left</th>\n",
       "      <th>price</th>\n",
       "    </tr>\n",
       "  </thead>\n",
       "  <tbody>\n",
       "    <tr>\n",
       "      <th>duration</th>\n",
       "      <td>1.000000</td>\n",
       "      <td>-0.039157</td>\n",
       "      <td>0.204222</td>\n",
       "    </tr>\n",
       "    <tr>\n",
       "      <th>days_left</th>\n",
       "      <td>-0.039157</td>\n",
       "      <td>1.000000</td>\n",
       "      <td>-0.091949</td>\n",
       "    </tr>\n",
       "    <tr>\n",
       "      <th>price</th>\n",
       "      <td>0.204222</td>\n",
       "      <td>-0.091949</td>\n",
       "      <td>1.000000</td>\n",
       "    </tr>\n",
       "  </tbody>\n",
       "</table>\n",
       "</div>"
      ],
      "text/plain": [
       "           duration  days_left     price\n",
       "duration   1.000000  -0.039157  0.204222\n",
       "days_left -0.039157   1.000000 -0.091949\n",
       "price      0.204222  -0.091949  1.000000"
      ]
     },
     "execution_count": 10,
     "metadata": {},
     "output_type": "execute_result"
    }
   ],
   "source": [
    "df1.corr()"
   ]
  },
  {
   "cell_type": "code",
   "execution_count": 11,
   "id": "855f409b",
   "metadata": {},
   "outputs": [
    {
     "data": {
      "text/plain": [
       "airline              object\n",
       "flight               object\n",
       "source_city          object\n",
       "departure_time       object\n",
       "stops                object\n",
       "arrival_time         object\n",
       "destination_city     object\n",
       "class                object\n",
       "duration            float64\n",
       "days_left             int64\n",
       "price                 int64\n",
       "dtype: object"
      ]
     },
     "execution_count": 11,
     "metadata": {},
     "output_type": "execute_result"
    }
   ],
   "source": [
    "df1.dtypes"
   ]
  },
  {
   "cell_type": "markdown",
   "id": "43081dd2",
   "metadata": {},
   "source": [
    "We convert the categorical columns into numerical using Label Encoder"
   ]
  },
  {
   "cell_type": "code",
   "execution_count": 12,
   "id": "095ee40a",
   "metadata": {},
   "outputs": [],
   "source": [
    "for col in df1.columns:\n",
    "    if df1[col].dtype=='object':\n",
    "        df1[col]=le.fit_transform(df1[col])"
   ]
  },
  {
   "cell_type": "code",
   "execution_count": 13,
   "id": "b2f896f8",
   "metadata": {},
   "outputs": [
    {
     "data": {
      "text/plain": [
       "airline               int64\n",
       "flight                int64\n",
       "source_city           int64\n",
       "departure_time        int64\n",
       "stops                 int64\n",
       "arrival_time          int64\n",
       "destination_city      int64\n",
       "class                 int64\n",
       "duration            float64\n",
       "days_left             int64\n",
       "price                 int64\n",
       "dtype: object"
      ]
     },
     "execution_count": 13,
     "metadata": {},
     "output_type": "execute_result"
    }
   ],
   "source": [
    "df1.dtypes"
   ]
  },
  {
   "cell_type": "markdown",
   "id": "60bbd954",
   "metadata": {},
   "source": [
    "Now we do the x y split"
   ]
  },
  {
   "cell_type": "code",
   "execution_count": 14,
   "id": "f01b10da",
   "metadata": {},
   "outputs": [],
   "source": [
    "x=df1.drop(['price'],axis=1)\n",
    "y=df1['price']"
   ]
  },
  {
   "cell_type": "markdown",
   "id": "2fe6b092",
   "metadata": {},
   "source": [
    "Price is our target variable"
   ]
  },
  {
   "cell_type": "markdown",
   "id": "92ef35f2",
   "metadata": {},
   "source": [
    "And now the train test split"
   ]
  },
  {
   "cell_type": "code",
   "execution_count": 15,
   "id": "1523056a",
   "metadata": {},
   "outputs": [
    {
     "data": {
      "text/plain": [
       "((210107, 10), (90046, 10), (210107,), (90046,))"
      ]
     },
     "execution_count": 15,
     "metadata": {},
     "output_type": "execute_result"
    }
   ],
   "source": [
    "x_train, x_test, y_train, y_test=train_test_split(x,y,test_size=0.3,random_state=20)\n",
    "x_train.shape,x_test.shape,y_train.shape,y_test.shape"
   ]
  },
  {
   "cell_type": "code",
   "execution_count": 16,
   "id": "2a78899e",
   "metadata": {},
   "outputs": [
    {
     "data": {
      "text/html": [
       "<div>\n",
       "<style scoped>\n",
       "    .dataframe tbody tr th:only-of-type {\n",
       "        vertical-align: middle;\n",
       "    }\n",
       "\n",
       "    .dataframe tbody tr th {\n",
       "        vertical-align: top;\n",
       "    }\n",
       "\n",
       "    .dataframe thead th {\n",
       "        text-align: right;\n",
       "    }\n",
       "</style>\n",
       "<table border=\"1\" class=\"dataframe\">\n",
       "  <thead>\n",
       "    <tr style=\"text-align: right;\">\n",
       "      <th></th>\n",
       "      <th>airline</th>\n",
       "      <th>flight</th>\n",
       "      <th>source_city</th>\n",
       "      <th>departure_time</th>\n",
       "      <th>stops</th>\n",
       "      <th>arrival_time</th>\n",
       "      <th>destination_city</th>\n",
       "      <th>class</th>\n",
       "      <th>duration</th>\n",
       "      <th>days_left</th>\n",
       "    </tr>\n",
       "  </thead>\n",
       "  <tbody>\n",
       "    <tr>\n",
       "      <th>152169</th>\n",
       "      <td>2</td>\n",
       "      <td>1071</td>\n",
       "      <td>4</td>\n",
       "      <td>2</td>\n",
       "      <td>0</td>\n",
       "      <td>3</td>\n",
       "      <td>1</td>\n",
       "      <td>1</td>\n",
       "      <td>8.75</td>\n",
       "      <td>44</td>\n",
       "    </tr>\n",
       "    <tr>\n",
       "      <th>255555</th>\n",
       "      <td>5</td>\n",
       "      <td>1475</td>\n",
       "      <td>0</td>\n",
       "      <td>2</td>\n",
       "      <td>0</td>\n",
       "      <td>2</td>\n",
       "      <td>4</td>\n",
       "      <td>0</td>\n",
       "      <td>24.25</td>\n",
       "      <td>43</td>\n",
       "    </tr>\n",
       "    <tr>\n",
       "      <th>214249</th>\n",
       "      <td>5</td>\n",
       "      <td>1497</td>\n",
       "      <td>2</td>\n",
       "      <td>4</td>\n",
       "      <td>0</td>\n",
       "      <td>0</td>\n",
       "      <td>0</td>\n",
       "      <td>0</td>\n",
       "      <td>4.83</td>\n",
       "      <td>29</td>\n",
       "    </tr>\n",
       "    <tr>\n",
       "      <th>5269</th>\n",
       "      <td>5</td>\n",
       "      <td>1460</td>\n",
       "      <td>2</td>\n",
       "      <td>4</td>\n",
       "      <td>0</td>\n",
       "      <td>5</td>\n",
       "      <td>5</td>\n",
       "      <td>1</td>\n",
       "      <td>11.17</td>\n",
       "      <td>27</td>\n",
       "    </tr>\n",
       "    <tr>\n",
       "      <th>141002</th>\n",
       "      <td>5</td>\n",
       "      <td>1449</td>\n",
       "      <td>4</td>\n",
       "      <td>2</td>\n",
       "      <td>0</td>\n",
       "      <td>5</td>\n",
       "      <td>0</td>\n",
       "      <td>1</td>\n",
       "      <td>25.67</td>\n",
       "      <td>39</td>\n",
       "    </tr>\n",
       "    <tr>\n",
       "      <th>...</th>\n",
       "      <td>...</td>\n",
       "      <td>...</td>\n",
       "      <td>...</td>\n",
       "      <td>...</td>\n",
       "      <td>...</td>\n",
       "      <td>...</td>\n",
       "      <td>...</td>\n",
       "      <td>...</td>\n",
       "      <td>...</td>\n",
       "      <td>...</td>\n",
       "    </tr>\n",
       "    <tr>\n",
       "      <th>178569</th>\n",
       "      <td>1</td>\n",
       "      <td>771</td>\n",
       "      <td>3</td>\n",
       "      <td>1</td>\n",
       "      <td>0</td>\n",
       "      <td>5</td>\n",
       "      <td>1</td>\n",
       "      <td>1</td>\n",
       "      <td>17.08</td>\n",
       "      <td>28</td>\n",
       "    </tr>\n",
       "    <tr>\n",
       "      <th>31962</th>\n",
       "      <td>1</td>\n",
       "      <td>729</td>\n",
       "      <td>2</td>\n",
       "      <td>2</td>\n",
       "      <td>0</td>\n",
       "      <td>5</td>\n",
       "      <td>3</td>\n",
       "      <td>1</td>\n",
       "      <td>27.08</td>\n",
       "      <td>26</td>\n",
       "    </tr>\n",
       "    <tr>\n",
       "      <th>220060</th>\n",
       "      <td>5</td>\n",
       "      <td>1552</td>\n",
       "      <td>2</td>\n",
       "      <td>2</td>\n",
       "      <td>0</td>\n",
       "      <td>0</td>\n",
       "      <td>3</td>\n",
       "      <td>0</td>\n",
       "      <td>17.25</td>\n",
       "      <td>18</td>\n",
       "    </tr>\n",
       "    <tr>\n",
       "      <th>285919</th>\n",
       "      <td>5</td>\n",
       "      <td>1522</td>\n",
       "      <td>3</td>\n",
       "      <td>0</td>\n",
       "      <td>0</td>\n",
       "      <td>5</td>\n",
       "      <td>1</td>\n",
       "      <td>0</td>\n",
       "      <td>10.17</td>\n",
       "      <td>15</td>\n",
       "    </tr>\n",
       "    <tr>\n",
       "      <th>37135</th>\n",
       "      <td>1</td>\n",
       "      <td>762</td>\n",
       "      <td>2</td>\n",
       "      <td>5</td>\n",
       "      <td>2</td>\n",
       "      <td>5</td>\n",
       "      <td>1</td>\n",
       "      <td>1</td>\n",
       "      <td>2.92</td>\n",
       "      <td>15</td>\n",
       "    </tr>\n",
       "  </tbody>\n",
       "</table>\n",
       "<p>210107 rows × 10 columns</p>\n",
       "</div>"
      ],
      "text/plain": [
       "        airline  flight  source_city  departure_time  stops  arrival_time  \\\n",
       "152169        2    1071            4               2      0             3   \n",
       "255555        5    1475            0               2      0             2   \n",
       "214249        5    1497            2               4      0             0   \n",
       "5269          5    1460            2               4      0             5   \n",
       "141002        5    1449            4               2      0             5   \n",
       "...         ...     ...          ...             ...    ...           ...   \n",
       "178569        1     771            3               1      0             5   \n",
       "31962         1     729            2               2      0             5   \n",
       "220060        5    1552            2               2      0             0   \n",
       "285919        5    1522            3               0      0             5   \n",
       "37135         1     762            2               5      2             5   \n",
       "\n",
       "        destination_city  class  duration  days_left  \n",
       "152169                 1      1      8.75         44  \n",
       "255555                 4      0     24.25         43  \n",
       "214249                 0      0      4.83         29  \n",
       "5269                   5      1     11.17         27  \n",
       "141002                 0      1     25.67         39  \n",
       "...                  ...    ...       ...        ...  \n",
       "178569                 1      1     17.08         28  \n",
       "31962                  3      1     27.08         26  \n",
       "220060                 3      0     17.25         18  \n",
       "285919                 1      0     10.17         15  \n",
       "37135                  1      1      2.92         15  \n",
       "\n",
       "[210107 rows x 10 columns]"
      ]
     },
     "execution_count": 16,
     "metadata": {},
     "output_type": "execute_result"
    }
   ],
   "source": [
    "x_train"
   ]
  },
  {
   "cell_type": "code",
   "execution_count": 17,
   "id": "ce02aff3",
   "metadata": {},
   "outputs": [
    {
     "data": {
      "text/html": [
       "<div>\n",
       "<style scoped>\n",
       "    .dataframe tbody tr th:only-of-type {\n",
       "        vertical-align: middle;\n",
       "    }\n",
       "\n",
       "    .dataframe tbody tr th {\n",
       "        vertical-align: top;\n",
       "    }\n",
       "\n",
       "    .dataframe thead th {\n",
       "        text-align: right;\n",
       "    }\n",
       "</style>\n",
       "<table border=\"1\" class=\"dataframe\">\n",
       "  <thead>\n",
       "    <tr style=\"text-align: right;\">\n",
       "      <th></th>\n",
       "      <th>airline</th>\n",
       "      <th>flight</th>\n",
       "      <th>source_city</th>\n",
       "      <th>departure_time</th>\n",
       "      <th>stops</th>\n",
       "      <th>arrival_time</th>\n",
       "      <th>destination_city</th>\n",
       "      <th>class</th>\n",
       "      <th>duration</th>\n",
       "      <th>days_left</th>\n",
       "    </tr>\n",
       "  </thead>\n",
       "  <tbody>\n",
       "    <tr>\n",
       "      <th>278045</th>\n",
       "      <td>1</td>\n",
       "      <td>828</td>\n",
       "      <td>3</td>\n",
       "      <td>5</td>\n",
       "      <td>2</td>\n",
       "      <td>5</td>\n",
       "      <td>5</td>\n",
       "      <td>0</td>\n",
       "      <td>1.67</td>\n",
       "      <td>15</td>\n",
       "    </tr>\n",
       "    <tr>\n",
       "      <th>78280</th>\n",
       "      <td>1</td>\n",
       "      <td>825</td>\n",
       "      <td>5</td>\n",
       "      <td>0</td>\n",
       "      <td>0</td>\n",
       "      <td>2</td>\n",
       "      <td>1</td>\n",
       "      <td>1</td>\n",
       "      <td>27.00</td>\n",
       "      <td>9</td>\n",
       "    </tr>\n",
       "    <tr>\n",
       "      <th>134282</th>\n",
       "      <td>1</td>\n",
       "      <td>840</td>\n",
       "      <td>4</td>\n",
       "      <td>1</td>\n",
       "      <td>0</td>\n",
       "      <td>2</td>\n",
       "      <td>5</td>\n",
       "      <td>1</td>\n",
       "      <td>13.00</td>\n",
       "      <td>42</td>\n",
       "    </tr>\n",
       "    <tr>\n",
       "      <th>36777</th>\n",
       "      <td>4</td>\n",
       "      <td>1397</td>\n",
       "      <td>2</td>\n",
       "      <td>2</td>\n",
       "      <td>2</td>\n",
       "      <td>5</td>\n",
       "      <td>1</td>\n",
       "      <td>1</td>\n",
       "      <td>2.83</td>\n",
       "      <td>13</td>\n",
       "    </tr>\n",
       "    <tr>\n",
       "      <th>175889</th>\n",
       "      <td>3</td>\n",
       "      <td>168</td>\n",
       "      <td>3</td>\n",
       "      <td>2</td>\n",
       "      <td>2</td>\n",
       "      <td>2</td>\n",
       "      <td>4</td>\n",
       "      <td>1</td>\n",
       "      <td>2.25</td>\n",
       "      <td>46</td>\n",
       "    </tr>\n",
       "    <tr>\n",
       "      <th>...</th>\n",
       "      <td>...</td>\n",
       "      <td>...</td>\n",
       "      <td>...</td>\n",
       "      <td>...</td>\n",
       "      <td>...</td>\n",
       "      <td>...</td>\n",
       "      <td>...</td>\n",
       "      <td>...</td>\n",
       "      <td>...</td>\n",
       "      <td>...</td>\n",
       "    </tr>\n",
       "    <tr>\n",
       "      <th>266805</th>\n",
       "      <td>5</td>\n",
       "      <td>1459</td>\n",
       "      <td>4</td>\n",
       "      <td>0</td>\n",
       "      <td>0</td>\n",
       "      <td>5</td>\n",
       "      <td>5</td>\n",
       "      <td>0</td>\n",
       "      <td>6.67</td>\n",
       "      <td>41</td>\n",
       "    </tr>\n",
       "    <tr>\n",
       "      <th>93184</th>\n",
       "      <td>4</td>\n",
       "      <td>1304</td>\n",
       "      <td>0</td>\n",
       "      <td>4</td>\n",
       "      <td>0</td>\n",
       "      <td>2</td>\n",
       "      <td>2</td>\n",
       "      <td>1</td>\n",
       "      <td>6.25</td>\n",
       "      <td>45</td>\n",
       "    </tr>\n",
       "    <tr>\n",
       "      <th>271160</th>\n",
       "      <td>5</td>\n",
       "      <td>1445</td>\n",
       "      <td>4</td>\n",
       "      <td>1</td>\n",
       "      <td>0</td>\n",
       "      <td>0</td>\n",
       "      <td>3</td>\n",
       "      <td>0</td>\n",
       "      <td>5.42</td>\n",
       "      <td>21</td>\n",
       "    </tr>\n",
       "    <tr>\n",
       "      <th>78544</th>\n",
       "      <td>3</td>\n",
       "      <td>329</td>\n",
       "      <td>5</td>\n",
       "      <td>2</td>\n",
       "      <td>0</td>\n",
       "      <td>3</td>\n",
       "      <td>1</td>\n",
       "      <td>1</td>\n",
       "      <td>4.50</td>\n",
       "      <td>11</td>\n",
       "    </tr>\n",
       "    <tr>\n",
       "      <th>156476</th>\n",
       "      <td>2</td>\n",
       "      <td>1080</td>\n",
       "      <td>3</td>\n",
       "      <td>4</td>\n",
       "      <td>0</td>\n",
       "      <td>2</td>\n",
       "      <td>2</td>\n",
       "      <td>1</td>\n",
       "      <td>8.67</td>\n",
       "      <td>34</td>\n",
       "    </tr>\n",
       "  </tbody>\n",
       "</table>\n",
       "<p>90046 rows × 10 columns</p>\n",
       "</div>"
      ],
      "text/plain": [
       "        airline  flight  source_city  departure_time  stops  arrival_time  \\\n",
       "278045        1     828            3               5      2             5   \n",
       "78280         1     825            5               0      0             2   \n",
       "134282        1     840            4               1      0             2   \n",
       "36777         4    1397            2               2      2             5   \n",
       "175889        3     168            3               2      2             2   \n",
       "...         ...     ...          ...             ...    ...           ...   \n",
       "266805        5    1459            4               0      0             5   \n",
       "93184         4    1304            0               4      0             2   \n",
       "271160        5    1445            4               1      0             0   \n",
       "78544         3     329            5               2      0             3   \n",
       "156476        2    1080            3               4      0             2   \n",
       "\n",
       "        destination_city  class  duration  days_left  \n",
       "278045                 5      0      1.67         15  \n",
       "78280                  1      1     27.00          9  \n",
       "134282                 5      1     13.00         42  \n",
       "36777                  1      1      2.83         13  \n",
       "175889                 4      1      2.25         46  \n",
       "...                  ...    ...       ...        ...  \n",
       "266805                 5      0      6.67         41  \n",
       "93184                  2      1      6.25         45  \n",
       "271160                 3      0      5.42         21  \n",
       "78544                  1      1      4.50         11  \n",
       "156476                 2      1      8.67         34  \n",
       "\n",
       "[90046 rows x 10 columns]"
      ]
     },
     "execution_count": 17,
     "metadata": {},
     "output_type": "execute_result"
    }
   ],
   "source": [
    "x_test"
   ]
  },
  {
   "cell_type": "markdown",
   "id": "d87971b9",
   "metadata": {},
   "source": [
    "Then we scale the values"
   ]
  },
  {
   "cell_type": "code",
   "execution_count": 18,
   "id": "6dfc5e66",
   "metadata": {},
   "outputs": [],
   "source": [
    "mmscaler=MinMaxScaler(feature_range=(0,1))\n",
    "x_train_scaled=mmscaler.fit_transform(x_train)\n",
    "x_test_scaled=mmscaler.fit_transform(x_test)\n",
    "x_train_scaled_df=pd.DataFrame(x_train)\n",
    "x_test_scaled_df=pd.DataFrame(x_test)  "
   ]
  },
  {
   "cell_type": "markdown",
   "id": "5c4882bd",
   "metadata": {},
   "source": [
    "Now we start building our models and then I'm evaluating their performance\n",
    "\n",
    "The first one that we are going to use is the Linear Regression Model"
   ]
  },
  {
   "cell_type": "code",
   "execution_count": 19,
   "id": "c153e31f",
   "metadata": {},
   "outputs": [
    {
     "name": "stdout",
     "output_type": "stream",
     "text": [
      "[45198.87775895  9349.13055223  4162.64190422 ... 53922.4716036\n",
      "  8986.08296265  5402.86678883]\n"
     ]
    }
   ],
   "source": [
    "lm = LinearRegression()\n",
    "lm.fit(x_train_scaled_df,y_train)\n",
    "y_pred_test_lm = lm.predict(x_test_scaled_df)\n",
    "print(y_pred_test_lm)"
   ]
  },
  {
   "cell_type": "code",
   "execution_count": 20,
   "id": "604f7a43",
   "metadata": {},
   "outputs": [
    {
     "name": "stdout",
     "output_type": "stream",
     "text": [
      "R2 Score:  0.9048167220277005\n",
      "Mean Squared Error is  48740881.672439694\n",
      "Mean Absolute Error is 4620.654545703716\n",
      "Root Mean Squared Error is 6981.467014348753\n"
     ]
    }
   ],
   "source": [
    "print(\"R2 Score: \",r2_score(y_test,y_pred_test_lm)) #ARRODONIR\n",
    "print(\"Mean Squared Error is \",mean_squared_error(y_test, y_pred_test_lm))\n",
    "print('Mean Absolute Error is', mean_absolute_error(y_test, y_pred_test_lm))\n",
    "print('Root Mean Squared Error is', np.sqrt(mean_squared_error(y_test, y_pred_test_lm)))\n"
   ]
  },
  {
   "cell_type": "code",
   "execution_count": 21,
   "id": "51c40aeb",
   "metadata": {},
   "outputs": [],
   "source": [
    "#sns.distplot(y_test-y_pred)\n",
    "#plt.show()"
   ]
  },
  {
   "cell_type": "markdown",
   "id": "c7fdfa47",
   "metadata": {},
   "source": [
    "Decision Tree Model"
   ]
  },
  {
   "cell_type": "code",
   "execution_count": 23,
   "id": "74f9aa3d",
   "metadata": {},
   "outputs": [
    {
     "name": "stdout",
     "output_type": "stream",
     "text": [
      "[20794.17263158 12111.89812368  5776.86818961 ... 52042.9503367\n",
      "  8879.84202386  5776.86818961]\n"
     ]
    }
   ],
   "source": [
    "dt=DecisionTreeRegressor(max_features=10,max_depth=7,random_state=42)\n",
    "dt.fit(x_train_scaled_df,y_train)\n",
    "y_pred_test_dt = dt.predict(x_test_scaled_df)\n",
    "print(y_pred_test_dt)"
   ]
  },
  {
   "cell_type": "code",
   "execution_count": 25,
   "id": "bbe1627e",
   "metadata": {},
   "outputs": [
    {
     "name": "stdout",
     "output_type": "stream",
     "text": [
      "R2 Score:  0.954547790348014\n",
      "Mean Squared Error is  23274894.70412124\n",
      "Mean Absolute Error is 2789.527011245925\n",
      "Root Mean Squared Error is 4824.406150410768\n"
     ]
    }
   ],
   "source": [
    "print(\"R2 Score: \",r2_score(y_test,y_pred_test_dt))\n",
    "print(\"Mean Squared Error is \",mean_squared_error(y_test, y_pred_test_dt))\n",
    "print('Mean Absolute Error is', mean_absolute_error(y_test, y_pred_test_dt))\n",
    "print('Root Mean Squared Error is', np.sqrt(mean_squared_error(y_test, y_pred_test_dt)))"
   ]
  },
  {
   "cell_type": "markdown",
   "id": "0eb3d2e5",
   "metadata": {},
   "source": [
    "Gradient Boosting Model"
   ]
  },
  {
   "cell_type": "code",
   "execution_count": 27,
   "id": "86c5151b",
   "metadata": {},
   "outputs": [
    {
     "name": "stdout",
     "output_type": "stream",
     "text": [
      "[19448.37558562 11368.08368358  5544.80573273 ... 56219.02264957\n",
      "  8274.45294636  5022.04247399]\n"
     ]
    }
   ],
   "source": [
    "gbre = GradientBoostingRegressor()\n",
    "gbre.fit(x_train_scaled_df, y_train)\n",
    "y_pred_test_gbre = gbre.predict(x_test_scaled_df)\n",
    "print(y_pred_test_gbre)"
   ]
  },
  {
   "cell_type": "code",
   "execution_count": 31,
   "id": "8ca3c4a0",
   "metadata": {},
   "outputs": [
    {
     "name": "stdout",
     "output_type": "stream",
     "text": [
      "R2 Score:  0.9573024307451373\n",
      "Mean Squared Error is  21864314.98353851\n",
      "Mean Absolute Error is 2800.5679590815985\n",
      "Root Mean Squared Error is 4675.9293176371375\n"
     ]
    }
   ],
   "source": [
    "print(\"R2 Score: \",r2_score(y_test,y_pred_test_gbre))\n",
    "print(\"Mean Squared Error is \",mean_squared_error(y_test, y_pred_test_gbre))\n",
    "print('Mean Absolute Error is', mean_absolute_error(y_test, y_pred_test_gbre))\n",
    "print('Root Mean Squared Error is', np.sqrt(mean_squared_error(y_test, y_pred_test_gbre)))"
   ]
  },
  {
   "cell_type": "markdown",
   "id": "9a052cff",
   "metadata": {},
   "source": [
    "Random Forest Regressor Model"
   ]
  },
  {
   "cell_type": "code",
   "execution_count": 33,
   "id": "507dfe2d",
   "metadata": {},
   "outputs": [
    {
     "name": "stdout",
     "output_type": "stream",
     "text": [
      "[17777.31 12794.24  5280.72 ... 52175.    8047.84  4141.6 ]\n"
     ]
    }
   ],
   "source": [
    "regr = RandomForestRegressor()\n",
    "regr.fit(x_train_scaled_df, y_train)\n",
    "y_pred_test_regr = regr.predict(x_test_scaled_df)\n",
    "print(y_pred_test_regr)"
   ]
  },
  {
   "cell_type": "code",
   "execution_count": 34,
   "id": "90357670",
   "metadata": {},
   "outputs": [
    {
     "name": "stdout",
     "output_type": "stream",
     "text": [
      "R2 Score:  0.9894574805166351\n",
      "Mean Squared Error is  5398550.098449273\n",
      "Mean Absolute Error is 888.2363460939549\n",
      "Root Mean Squared Error is 2323.478017638487\n"
     ]
    }
   ],
   "source": [
    "print(\"R2 Score: \",r2_score(y_test,y_pred_test_regr))\n",
    "print(\"Mean Squared Error is \",mean_squared_error(y_test, y_pred_test_regr))\n",
    "print('Mean Absolute Error is', mean_absolute_error(y_test, y_pred_test_regr))\n",
    "print('Root Mean Squared Error is', np.sqrt(mean_squared_error(y_test, y_pred_test_regr)))"
   ]
  },
  {
   "cell_type": "markdown",
   "id": "496f8f37",
   "metadata": {},
   "source": [
    "KNeighbors Regressor"
   ]
  },
  {
   "cell_type": "code",
   "execution_count": 35,
   "id": "34a38ec3",
   "metadata": {
    "scrolled": true
   },
   "outputs": [
    {
     "name": "stdout",
     "output_type": "stream",
     "text": [
      "[10827.6  9041.8 23338.  ... 33557.8  7531.   4178. ]\n"
     ]
    }
   ],
   "source": [
    "kn=KNeighborsRegressor()\n",
    "kn.fit(x_train_scaled_df,y_train)\n",
    "y_pred_test_kn = kn.predict(x_test_scaled_df)\n",
    "print(y_pred_test_kn)"
   ]
  },
  {
   "cell_type": "code",
   "execution_count": 36,
   "id": "bfd4634a",
   "metadata": {},
   "outputs": [
    {
     "name": "stdout",
     "output_type": "stream",
     "text": [
      "R2 Score:  0.43112602714460013\n",
      "Mean Squared Error is  291305569.5092264\n",
      "Mean Absolute Error is 12356.739211069898\n",
      "Root Mean Squared Error is 17067.676160193172\n"
     ]
    }
   ],
   "source": [
    "print(\"R2 Score: \",r2_score(y_test,y_pred_test_kn))\n",
    "print(\"Mean Squared Error is \",mean_squared_error(y_test, y_pred_test_kn))\n",
    "print('Mean Absolute Error is', mean_absolute_error(y_test, y_pred_test_kn))\n",
    "print('Root Mean Squared Error is', np.sqrt(mean_squared_error(y_test, y_pred_test_kn)))"
   ]
  },
  {
   "cell_type": "markdown",
   "id": "0ff5d5cd",
   "metadata": {},
   "source": [
    "Bagging Regressor"
   ]
  },
  {
   "cell_type": "code",
   "execution_count": 38,
   "id": "b3280182",
   "metadata": {},
   "outputs": [
    {
     "name": "stdout",
     "output_type": "stream",
     "text": [
      "[17738.  12302.3  5232.5 ... 52175.   7940.2  4249.9]\n"
     ]
    }
   ],
   "source": [
    "bg=BaggingRegressor()\n",
    "bg.fit(x_train_scaled_df,y_train)\n",
    "y_pred_test_bg = bg.predict(x_test_scaled_df)\n",
    "print(y_pred_test_bg)"
   ]
  },
  {
   "cell_type": "code",
   "execution_count": 39,
   "id": "bfc14ff6",
   "metadata": {},
   "outputs": [
    {
     "name": "stdout",
     "output_type": "stream",
     "text": [
      "R2 Score:  0.9885037275132094\n",
      "Mean Squared Error is  5886942.211801708\n",
      "Mean Absolute Error is 917.0938917079948\n",
      "Root Mean Squared Error is 2426.3021682803046\n"
     ]
    }
   ],
   "source": [
    "print(\"R2 Score: \",r2_score(y_test,y_pred_test_bg))\n",
    "print(\"Mean Squared Error is \",mean_squared_error(y_test, y_pred_test_bg))\n",
    "print('Mean Absolute Error is', mean_absolute_error(y_test, y_pred_test_bg))\n",
    "print('Root Mean Squared Error is', np.sqrt(mean_squared_error(y_test, y_pred_test_bg)))"
   ]
  },
  {
   "cell_type": "markdown",
   "id": "b176afc1",
   "metadata": {},
   "source": [
    "Extra Trees Regressor"
   ]
  },
  {
   "cell_type": "code",
   "execution_count": 40,
   "id": "7b79e2ce",
   "metadata": {},
   "outputs": [
    {
     "name": "stdout",
     "output_type": "stream",
     "text": [
      "[17738.   12974.86  5338.18 ... 52175.    8178.94  4278.22]\n"
     ]
    }
   ],
   "source": [
    "ext=ExtraTreesRegressor()\n",
    "ext.fit(x_train_scaled_df,y_train)\n",
    "y_pred_test_ext = ext.predict(x_test_scaled_df)\n",
    "print(y_pred_test_ext)"
   ]
  },
  {
   "cell_type": "code",
   "execution_count": 41,
   "id": "7d10c301",
   "metadata": {},
   "outputs": [
    {
     "name": "stdout",
     "output_type": "stream",
     "text": [
      "R2 Score:  0.9877875324021771\n",
      "Mean Squared Error is  6253687.105493678\n",
      "Mean Absolute Error is 931.9275975575447\n",
      "Root Mean Squared Error is 2500.7373123728285\n"
     ]
    }
   ],
   "source": [
    "print(\"R2 Score: \",r2_score(y_test,y_pred_test_ext))\n",
    "print(\"Mean Squared Error is \",mean_squared_error(y_test, y_pred_test_ext))\n",
    "print('Mean Absolute Error is', mean_absolute_error(y_test, y_pred_test_ext))\n",
    "print('Root Mean Squared Error is', np.sqrt(mean_squared_error(y_test, y_pred_test_ext)))"
   ]
  },
  {
   "cell_type": "markdown",
   "id": "c6710b40",
   "metadata": {},
   "source": [
    "* It looks like the best model to predict the flight price is  Random Forest, with a R2 score of 0.9894184537936486,  \n",
    "a Mean Squared Error of  5418534.6685089115, a Mean Absolute Error of 888.364458959292 and a Root Mean Squared Error of 2327.7746172060797"
   ]
  },
  {
   "cell_type": "code",
   "execution_count": null,
   "id": "0ffc5b0f",
   "metadata": {},
   "outputs": [],
   "source": []
  },
  {
   "cell_type": "markdown",
   "id": "4475af75",
   "metadata": {},
   "source": [
    "Now we train our model with Random Forest Regressor Model"
   ]
  },
  {
   "cell_type": "code",
   "execution_count": 42,
   "id": "cd8dc561",
   "metadata": {},
   "outputs": [
    {
     "name": "stdout",
     "output_type": "stream",
     "text": [
      "[17777.31 12794.24  5280.72 ... 52175.    8047.84  4141.6 ]\n"
     ]
    }
   ],
   "source": [
    "#regr.fit(x_train, y_train)\n",
    "#y_pred = regr.predict(x_test)\n",
    "print(y_pred_test_regr)"
   ]
  },
  {
   "cell_type": "code",
   "execution_count": 43,
   "id": "5cdeee0c",
   "metadata": {},
   "outputs": [],
   "source": [
    "out=pd.DataFrame({'Price_actual':y_test,'RF_Price_pred':y_pred_test_regr})\n",
    "result=df1.merge(out,left_index=True,right_index=True)"
   ]
  },
  {
   "cell_type": "code",
   "execution_count": 44,
   "id": "2b64c700",
   "metadata": {},
   "outputs": [
    {
     "data": {
      "text/html": [
       "<div>\n",
       "<style scoped>\n",
       "    .dataframe tbody tr th:only-of-type {\n",
       "        vertical-align: middle;\n",
       "    }\n",
       "\n",
       "    .dataframe tbody tr th {\n",
       "        vertical-align: top;\n",
       "    }\n",
       "\n",
       "    .dataframe thead th {\n",
       "        text-align: right;\n",
       "    }\n",
       "</style>\n",
       "<table border=\"1\" class=\"dataframe\">\n",
       "  <thead>\n",
       "    <tr style=\"text-align: right;\">\n",
       "      <th></th>\n",
       "      <th>airline</th>\n",
       "      <th>flight</th>\n",
       "      <th>source_city</th>\n",
       "      <th>departure_time</th>\n",
       "      <th>stops</th>\n",
       "      <th>arrival_time</th>\n",
       "      <th>destination_city</th>\n",
       "      <th>class</th>\n",
       "      <th>duration</th>\n",
       "      <th>days_left</th>\n",
       "      <th>price</th>\n",
       "      <th>Price_actual</th>\n",
       "      <th>RF_Price_pred</th>\n",
       "    </tr>\n",
       "  </thead>\n",
       "  <tbody>\n",
       "    <tr>\n",
       "      <th>4</th>\n",
       "      <td>5</td>\n",
       "      <td>1549</td>\n",
       "      <td>2</td>\n",
       "      <td>4</td>\n",
       "      <td>2</td>\n",
       "      <td>4</td>\n",
       "      <td>5</td>\n",
       "      <td>1</td>\n",
       "      <td>2.33</td>\n",
       "      <td>1</td>\n",
       "      <td>5955</td>\n",
       "      <td>5955</td>\n",
       "      <td>7197.04</td>\n",
       "    </tr>\n",
       "    <tr>\n",
       "      <th>9</th>\n",
       "      <td>2</td>\n",
       "      <td>1014</td>\n",
       "      <td>2</td>\n",
       "      <td>0</td>\n",
       "      <td>2</td>\n",
       "      <td>2</td>\n",
       "      <td>5</td>\n",
       "      <td>1</td>\n",
       "      <td>2.25</td>\n",
       "      <td>1</td>\n",
       "      <td>5954</td>\n",
       "      <td>5954</td>\n",
       "      <td>6180.99</td>\n",
       "    </tr>\n",
       "    <tr>\n",
       "      <th>17</th>\n",
       "      <td>1</td>\n",
       "      <td>812</td>\n",
       "      <td>2</td>\n",
       "      <td>1</td>\n",
       "      <td>2</td>\n",
       "      <td>4</td>\n",
       "      <td>5</td>\n",
       "      <td>1</td>\n",
       "      <td>2.17</td>\n",
       "      <td>1</td>\n",
       "      <td>5955</td>\n",
       "      <td>5955</td>\n",
       "      <td>6348.59</td>\n",
       "    </tr>\n",
       "    <tr>\n",
       "      <th>18</th>\n",
       "      <td>0</td>\n",
       "      <td>1211</td>\n",
       "      <td>2</td>\n",
       "      <td>2</td>\n",
       "      <td>0</td>\n",
       "      <td>1</td>\n",
       "      <td>5</td>\n",
       "      <td>1</td>\n",
       "      <td>12.25</td>\n",
       "      <td>1</td>\n",
       "      <td>5949</td>\n",
       "      <td>5949</td>\n",
       "      <td>9780.88</td>\n",
       "    </tr>\n",
       "    <tr>\n",
       "      <th>20</th>\n",
       "      <td>2</td>\n",
       "      <td>982</td>\n",
       "      <td>2</td>\n",
       "      <td>1</td>\n",
       "      <td>0</td>\n",
       "      <td>2</td>\n",
       "      <td>5</td>\n",
       "      <td>1</td>\n",
       "      <td>11.75</td>\n",
       "      <td>1</td>\n",
       "      <td>5954</td>\n",
       "      <td>5954</td>\n",
       "      <td>13866.06</td>\n",
       "    </tr>\n",
       "    <tr>\n",
       "      <th>...</th>\n",
       "      <td>...</td>\n",
       "      <td>...</td>\n",
       "      <td>...</td>\n",
       "      <td>...</td>\n",
       "      <td>...</td>\n",
       "      <td>...</td>\n",
       "      <td>...</td>\n",
       "      <td>...</td>\n",
       "      <td>...</td>\n",
       "      <td>...</td>\n",
       "      <td>...</td>\n",
       "      <td>...</td>\n",
       "      <td>...</td>\n",
       "    </tr>\n",
       "    <tr>\n",
       "      <th>300139</th>\n",
       "      <td>5</td>\n",
       "      <td>1488</td>\n",
       "      <td>1</td>\n",
       "      <td>2</td>\n",
       "      <td>0</td>\n",
       "      <td>2</td>\n",
       "      <td>3</td>\n",
       "      <td>0</td>\n",
       "      <td>26.42</td>\n",
       "      <td>49</td>\n",
       "      <td>51457</td>\n",
       "      <td>51457</td>\n",
       "      <td>59828.06</td>\n",
       "    </tr>\n",
       "    <tr>\n",
       "      <th>300145</th>\n",
       "      <td>1</td>\n",
       "      <td>716</td>\n",
       "      <td>1</td>\n",
       "      <td>4</td>\n",
       "      <td>0</td>\n",
       "      <td>4</td>\n",
       "      <td>3</td>\n",
       "      <td>0</td>\n",
       "      <td>23.08</td>\n",
       "      <td>49</td>\n",
       "      <td>51345</td>\n",
       "      <td>51345</td>\n",
       "      <td>51345.00</td>\n",
       "    </tr>\n",
       "    <tr>\n",
       "      <th>300147</th>\n",
       "      <td>1</td>\n",
       "      <td>776</td>\n",
       "      <td>1</td>\n",
       "      <td>1</td>\n",
       "      <td>0</td>\n",
       "      <td>5</td>\n",
       "      <td>3</td>\n",
       "      <td>0</td>\n",
       "      <td>17.25</td>\n",
       "      <td>49</td>\n",
       "      <td>68739</td>\n",
       "      <td>68739</td>\n",
       "      <td>40593.00</td>\n",
       "    </tr>\n",
       "    <tr>\n",
       "      <th>300148</th>\n",
       "      <td>5</td>\n",
       "      <td>1477</td>\n",
       "      <td>1</td>\n",
       "      <td>4</td>\n",
       "      <td>0</td>\n",
       "      <td>2</td>\n",
       "      <td>3</td>\n",
       "      <td>0</td>\n",
       "      <td>10.08</td>\n",
       "      <td>49</td>\n",
       "      <td>69265</td>\n",
       "      <td>69265</td>\n",
       "      <td>71348.20</td>\n",
       "    </tr>\n",
       "    <tr>\n",
       "      <th>300152</th>\n",
       "      <td>5</td>\n",
       "      <td>1477</td>\n",
       "      <td>1</td>\n",
       "      <td>4</td>\n",
       "      <td>0</td>\n",
       "      <td>2</td>\n",
       "      <td>3</td>\n",
       "      <td>0</td>\n",
       "      <td>10.08</td>\n",
       "      <td>49</td>\n",
       "      <td>81585</td>\n",
       "      <td>81585</td>\n",
       "      <td>71348.20</td>\n",
       "    </tr>\n",
       "  </tbody>\n",
       "</table>\n",
       "<p>90046 rows × 13 columns</p>\n",
       "</div>"
      ],
      "text/plain": [
       "        airline  flight  source_city  departure_time  stops  arrival_time  \\\n",
       "4             5    1549            2               4      2             4   \n",
       "9             2    1014            2               0      2             2   \n",
       "17            1     812            2               1      2             4   \n",
       "18            0    1211            2               2      0             1   \n",
       "20            2     982            2               1      0             2   \n",
       "...         ...     ...          ...             ...    ...           ...   \n",
       "300139        5    1488            1               2      0             2   \n",
       "300145        1     716            1               4      0             4   \n",
       "300147        1     776            1               1      0             5   \n",
       "300148        5    1477            1               4      0             2   \n",
       "300152        5    1477            1               4      0             2   \n",
       "\n",
       "        destination_city  class  duration  days_left  price  Price_actual  \\\n",
       "4                      5      1      2.33          1   5955          5955   \n",
       "9                      5      1      2.25          1   5954          5954   \n",
       "17                     5      1      2.17          1   5955          5955   \n",
       "18                     5      1     12.25          1   5949          5949   \n",
       "20                     5      1     11.75          1   5954          5954   \n",
       "...                  ...    ...       ...        ...    ...           ...   \n",
       "300139                 3      0     26.42         49  51457         51457   \n",
       "300145                 3      0     23.08         49  51345         51345   \n",
       "300147                 3      0     17.25         49  68739         68739   \n",
       "300148                 3      0     10.08         49  69265         69265   \n",
       "300152                 3      0     10.08         49  81585         81585   \n",
       "\n",
       "        RF_Price_pred  \n",
       "4             7197.04  \n",
       "9             6180.99  \n",
       "17            6348.59  \n",
       "18            9780.88  \n",
       "20           13866.06  \n",
       "...               ...  \n",
       "300139       59828.06  \n",
       "300145       51345.00  \n",
       "300147       40593.00  \n",
       "300148       71348.20  \n",
       "300152       71348.20  \n",
       "\n",
       "[90046 rows x 13 columns]"
      ]
     },
     "execution_count": 44,
     "metadata": {},
     "output_type": "execute_result"
    }
   ],
   "source": [
    "result"
   ]
  },
  {
   "cell_type": "code",
   "execution_count": 65,
   "id": "5cba9947",
   "metadata": {},
   "outputs": [
    {
     "data": {
      "image/png": "[encoded data removed]",
      "text/plain": [
       "<Figure size 2000x1000 with 1 Axes>"
      ]
     },
     "metadata": {},
     "output_type": "display_data"
    }
   ],
   "source": [
    "fig, ax = plt.subplots(figsize=(20,10))\n",
    "sns.scatterplot(x='Price_actual',y='RF_Price_pred',data=result, color='blue', ax=ax)\n",
    "plt.plot(result['Price_actual'],result['Price_actual'], color='black')\n",
    "plt.title('Actual Price  Vs  Predicted Price RF ',fontsize=20)\n",
    "plt.xlabel('Actual Price',fontsize=15)\n",
    "plt.ylabel('Predicted Price with RF',fontsize=20)\n",
    "plt.savefig('/Users/clara/Documents/Ironhack/Finalproject/EDA/prediction_scatterplot')\n",
    "plt.show()"
   ]
  },
  {
   "cell_type": "markdown",
   "id": "294f8122",
   "metadata": {},
   "source": [
    "Now we save all the models with pickle"
   ]
  },
  {
   "cell_type": "code",
   "execution_count": 58,
   "id": "cadfc70b",
   "metadata": {},
   "outputs": [
    {
     "name": "stdout",
     "output_type": "stream",
     "text": [
      "dump sucess\n"
     ]
    }
   ],
   "source": [
    "with open('linear.pkl','wb') as f:\n",
    "    pickle.dump(lm,f)\n",
    "    print('dump sucess')"
   ]
  },
  {
   "cell_type": "code",
   "execution_count": 59,
   "id": "b9b85fbb",
   "metadata": {},
   "outputs": [
    {
     "name": "stdout",
     "output_type": "stream",
     "text": [
      "dump sucess\n"
     ]
    }
   ],
   "source": [
    "with open('dt.pkl','wb') as f:\n",
    "    pickle.dump(dt,f)\n",
    "    print('dump sucess')"
   ]
  },
  {
   "cell_type": "code",
   "execution_count": 60,
   "id": "8f3bd68f",
   "metadata": {},
   "outputs": [
    {
     "name": "stdout",
     "output_type": "stream",
     "text": [
      "dump sucess\n"
     ]
    }
   ],
   "source": [
    "with open('gbre.pkl','wb') as f:\n",
    "    pickle.dump(gbre,f)\n",
    "    print('dump sucess')"
   ]
  },
  {
   "cell_type": "code",
   "execution_count": 61,
   "id": "65f67e9d",
   "metadata": {},
   "outputs": [
    {
     "name": "stdout",
     "output_type": "stream",
     "text": [
      "dump sucess\n"
     ]
    }
   ],
   "source": [
    "with open('regr.pkl','wb') as f:\n",
    "    pickle.dump(regr,f)\n",
    "    print('dump sucess')"
   ]
  },
  {
   "cell_type": "code",
   "execution_count": 62,
   "id": "2c54b7e6",
   "metadata": {},
   "outputs": [
    {
     "name": "stdout",
     "output_type": "stream",
     "text": [
      "dump sucess\n"
     ]
    }
   ],
   "source": [
    "with open('kn.pkl','wb') as f:\n",
    "    pickle.dump(kn,f)\n",
    "    print('dump sucess')"
   ]
  },
  {
   "cell_type": "code",
   "execution_count": 63,
   "id": "597b8c5d",
   "metadata": {},
   "outputs": [
    {
     "name": "stdout",
     "output_type": "stream",
     "text": [
      "dump sucess\n"
     ]
    }
   ],
   "source": [
    "with open('bg.pkl','wb') as f:\n",
    "    pickle.dump(bg,f)\n",
    "    print('dump sucess')"
   ]
  },
  {
   "cell_type": "code",
   "execution_count": 64,
   "id": "307d666d",
   "metadata": {},
   "outputs": [
    {
     "name": "stdout",
     "output_type": "stream",
     "text": [
      "dump sucess\n"
     ]
    }
   ],
   "source": [
    "with open('ext.pkl','wb') as f:\n",
    "    pickle.dump(ext,f)\n",
    "    print('dump sucess')"
   ]
  },
  {
   "cell_type": "code",
   "execution_count": null,
   "id": "958f8938",
   "metadata": {},
   "outputs": [],
   "source": []
  }
 ],
 "metadata": {
  "kernelspec": {
   "display_name": "finalproject",
   "language": "python",
   "name": "finalproject"
  },
  "language_info": {
   "codemirror_mode": {
    "name": "ipython",
    "version": 3
   },
   "file_extension": ".py",
   "mimetype": "text/x-python",
   "name": "python",
   "nbconvert_exporter": "python",
   "pygments_lexer": "ipython3",
   "version": "3.9.15"
  }
 },
 "nbformat": 4,
 "nbformat_minor": 5
}
