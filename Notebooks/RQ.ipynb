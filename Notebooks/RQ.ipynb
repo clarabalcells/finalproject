{
 "cells": [
  {
   "cell_type": "code",
   "execution_count": 1,
   "id": "4077fc5e",
   "metadata": {},
   "outputs": [],
   "source": [
    "#Does price vary with Airlines?\n",
    "#How is the price affected when tickets are bought in just 1 or 2 days before departure?\n",
    "#Does ticket price change based on the departure time and arrival time?\n",
    "#How the price changes with change in Source and Destination?\n",
    "#How does the ticket price vary between Economy and Business class?\n",
    "\n",
    "\n",
    "\n",
    "# How does the ticket price vary between Economy and Business class?\n",
    "# Does price vary with Airlines?\n",
    "# How is the price affected when tickets are bought in just 1 or 2 days before departure?\n",
    "# Does ticket price change based on the departure time and arrival time?\n",
    "# How the price changes with change in Source and Destination?\n",
    "# Does the number of stops influences the price?\n",
    "# What variables influence most the price?\n"
   ]
  },
  {
   "cell_type": "code",
   "execution_count": null,
   "id": "fb199fd1",
   "metadata": {},
   "outputs": [],
   "source": []
  }
 ],
 "metadata": {
  "kernelspec": {
   "display_name": "Python 3 (ipykernel)",
   "language": "python",
   "name": "python3"
  },
  "language_info": {
   "codemirror_mode": {
    "name": "ipython",
    "version": 3
   },
   "file_extension": ".py",
   "mimetype": "text/x-python",
   "name": "python",
   "nbconvert_exporter": "python",
   "pygments_lexer": "ipython3",
   "version": "3.9.15"
  }
 },
 "nbformat": 4,
 "nbformat_minor": 5
}
